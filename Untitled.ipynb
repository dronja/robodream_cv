{
 "cells": [
  {
   "cell_type": "code",
   "execution_count": null,
   "id": "184f8b8a-02a9-4700-982f-d5c88f453c61",
   "metadata": {},
   "outputs": [],
   "source": [
    "import os\n",
    "import numpy as np\n",
    "from glob import glob\n",
    "import tensorflow as tf\n",
    "from tensorflow.keras.layers import Conv2D, UpSampling2D, Input, BatchNormalization, PReLU\n",
    "from tensorflow.keras.models import Model\n",
    "from tensorflow.keras.preprocessing.image import load_img, img_to_array\n",
    "import matplotlib.pyplot as plt"
   ]
  },
  {
   "cell_type": "code",
   "execution_count": null,
   "id": "5bfb29f3-d5cc-4873-ae43-906bf1e0902c",
   "metadata": {},
   "outputs": [],
   "source": [
    "img_path = \"/home/dr_w/Downloads/img\"\n",
    "img_size_lr = (28, 36)\n",
    "img_size_hr = (89, 109)\n",
    "batch_size = 16\n",
    "epochs = 20"
   ]
  },
  {
   "cell_type": "code",
   "execution_count": null,
   "id": "f6083a35-8da0-4633-95e3-c1307e65982b",
   "metadata": {},
   "outputs": [],
   "source": [
    "def load_images(path, img_size):\n",
    "    images = []\n",
    "    for filename in glob(os.path.join(path, \"*.jpg\")):\n",
    "        img = load_img(filename, target_size=img_size)\n",
    "        img = img_to_array(img) / 255.0\n",
    "        images.append(img)\n",
    "    return np.array(images)"
   ]
  },
  {
   "cell_type": "code",
   "execution_count": null,
   "id": "5979e544-4e1c-400c-bd48-887d080cab06",
   "metadata": {},
   "outputs": [],
   "source": [
    "hr_images = load_images(img_path, img_size_hr)\n",
    "lr_images = load_images(img_path, img_size_lr)\n",
    "\n",
    "print(f\"HR shape: {hr_images.shape}, LR shape: {lr_images.shape}\")"
   ]
  },
  {
   "cell_type": "code",
   "execution_count": null,
   "id": "ad65fb94-5e9a-40b3-a1fd-000adec8647c",
   "metadata": {},
   "outputs": [],
   "source": []
  }
 ],
 "metadata": {
  "kernelspec": {
   "display_name": "Python 3 (ipykernel)",
   "language": "python",
   "name": "python3"
  },
  "language_info": {
   "codemirror_mode": {
    "name": "ipython",
    "version": 3
   },
   "file_extension": ".py",
   "mimetype": "text/x-python",
   "name": "python",
   "nbconvert_exporter": "python",
   "pygments_lexer": "ipython3",
   "version": "3.10.13"
  }
 },
 "nbformat": 4,
 "nbformat_minor": 5
}
